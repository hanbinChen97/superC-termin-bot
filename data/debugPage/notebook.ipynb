{
 "cells": [
  {
   "cell_type": "code",
   "execution_count": 14,
   "id": "9c5e584c",
   "metadata": {},
   "outputs": [
    {
     "name": "stdout",
     "output_type": "stream",
     "text": [
      "<div class=\"header\">\n",
      " <h2 class=\"h1like\">\n",
      "  Online-Terminanfrage erfolgreich\n",
      " </h2>\n",
      " <p class=\"h4\">\n",
      "  Nächster Schritt: Termin bestätigen\n",
      " </p>\n",
      "</div>\n",
      "\n"
     ]
    }
   ],
   "source": [
    "# 从当前目录下的 step_6_ Termin bestätigen.html 读取内容进行 dom 分析\n",
    "\n",
    "from bs4 import BeautifulSoup\n",
    "\n",
    "# 读取文件\n",
    "with open('step_6_ Termin bestätigen.html', 'r', encoding='utf-8') as file:\n",
    "    html_content = file.read()\n",
    "\n",
    "# 使用 BeautifulSoup 解析 HTML\n",
    "soup = BeautifulSoup(html_content, 'html.parser')\n",
    "\n",
    "# 打印解析后的 soup.body 的下级元素\n",
    "print(soup.body.find('div', class_='header').prettify())"
   ]
  }
 ],
 "metadata": {
  "kernelspec": {
   "display_name": "Python 3",
   "language": "python",
   "name": "python3"
  },
  "language_info": {
   "codemirror_mode": {
    "name": "ipython",
    "version": 3
   },
   "file_extension": ".py",
   "mimetype": "text/x-python",
   "name": "python",
   "nbconvert_exporter": "python",
   "pygments_lexer": "ipython3",
   "version": "3.10.18"
  }
 },
 "nbformat": 4,
 "nbformat_minor": 5
}
